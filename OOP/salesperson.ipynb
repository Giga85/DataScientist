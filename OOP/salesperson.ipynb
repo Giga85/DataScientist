{
 "cells": [
  {
   "cell_type": "code",
   "execution_count": 8,
   "id": "47c88ddf",
   "metadata": {},
   "outputs": [],
   "source": [
    "class SalesPerson:\n",
    "    \"\"\"The SalesPerson class represents an article of SalesPerson worked in a store\"\"\"\n",
    "    def __init__(self, first_name, last_name, employee_id, salary, pants_sold, total_sales):\n",
    "        \"\"\"Method for initializing a SalesPersons object\n",
    "    \n",
    "        Args: \n",
    "            first_name(str)\n",
    "            last_name(str)\n",
    "            employee_id(str)\n",
    "            salary(float)\n",
    "            pants_sold(int)\n",
    "            total_sales(int)\n",
    "        Attributes:\n",
    "            first_name (string): the first name of the salesperson\n",
    "            last_name (string): the last name of the salesperson\n",
    "            employee_id (int): the employee ID number like 5681923\n",
    "            salary (float): the monthly salary of the employee\n",
    "            pants_sold (list of Pants objects), \n",
    "            pants that the salesperson has sold \n",
    "            total_sales (float): sum of sales of pants sold\"\"\"\n",
    "        self.first_name = first_name\n",
    "        self.last_name = last_name\n",
    "        self.employee_id = employee_id\n",
    "        self.salary = salary\n",
    "        self.pants_sold = pants_sold\n",
    "        self.total_sales = total_sales\n",
    "        \n",
    "    def sell_pants(self, new_price):\n",
    "        self.price = new_price\n",
    " "
   ]
  },
  {
   "cell_type": "code",
   "execution_count": null,
   "id": "801248a5",
   "metadata": {},
   "outputs": [],
   "source": []
  }
 ],
 "metadata": {
  "kernelspec": {
   "display_name": "Python 3 (ipykernel)",
   "language": "python",
   "name": "python3"
  },
  "language_info": {
   "codemirror_mode": {
    "name": "ipython",
    "version": 3
   },
   "file_extension": ".py",
   "mimetype": "text/x-python",
   "name": "python",
   "nbconvert_exporter": "python",
   "pygments_lexer": "ipython3",
   "version": "3.11.3"
  }
 },
 "nbformat": 4,
 "nbformat_minor": 5
}
