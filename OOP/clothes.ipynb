{
 "cells": [
  {
   "cell_type": "code",
   "execution_count": 1,
   "id": "93d941a0",
   "metadata": {},
   "outputs": [],
   "source": [
    "import numpy as np"
   ]
  },
  {
   "cell_type": "code",
   "execution_count": 12,
   "id": "1bce6998",
   "metadata": {},
   "outputs": [],
   "source": [
    "class shirt:\n",
    "    def __init__(self, name, color, size, price):\n",
    "        self.name = name\n",
    "        self.color = color\n",
    "        self.size = size\n",
    "        self.price = price\n",
    "        \n",
    "    def change_price(self, new_price):\n",
    "        self.price = new_price\n",
    "        \n",
    "    def discount(self, discount):\n",
    "        return self.price * (1-discount)\n",
    "    "
   ]
  },
  {
   "cell_type": "code",
   "execution_count": 13,
   "id": "de1c40eb",
   "metadata": {},
   "outputs": [
    {
     "name": "stdout",
     "output_type": "stream",
     "text": [
      "100\n",
      "200\n",
      "160.0\n"
     ]
    }
   ],
   "source": [
    "s1 = shirt('T-shirt', 'blue', 39, 100)\n",
    "print(s1.price)\n",
    "s1.change_price(200)\n",
    "print(s1.price)\n",
    "print(s1.discount(0.2))"
   ]
  },
  {
   "cell_type": "code",
   "execution_count": 15,
   "id": "4964d560",
   "metadata": {},
   "outputs": [
    {
     "name": "stdout",
     "output_type": "stream",
     "text": [
      "blue\n",
      "red\n",
      "white\n"
     ]
    }
   ],
   "source": [
    "shirt_collection = []\n",
    "s2 = shirt('T-shirt', 'red', 40, 120)\n",
    "s3 = shirt('shirt', 'white', 40, 110)\n",
    "shirt_collection.append(s1)\n",
    "shirt_collection.append(s2)\n",
    "shirt_collection.append(s3)\n",
    "for x in shirt_collection:\n",
    "    print(x.color)"
   ]
  },
  {
   "cell_type": "code",
   "execution_count": null,
   "id": "73f945d0",
   "metadata": {},
   "outputs": [],
   "source": []
  }
 ],
 "metadata": {
  "kernelspec": {
   "display_name": "Python 3 (ipykernel)",
   "language": "python",
   "name": "python3"
  },
  "language_info": {
   "codemirror_mode": {
    "name": "ipython",
    "version": 3
   },
   "file_extension": ".py",
   "mimetype": "text/x-python",
   "name": "python",
   "nbconvert_exporter": "python",
   "pygments_lexer": "ipython3",
   "version": "3.11.3"
  }
 },
 "nbformat": 4,
 "nbformat_minor": 5
}
