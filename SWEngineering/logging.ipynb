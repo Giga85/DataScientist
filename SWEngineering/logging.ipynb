{
 "cells": [
  {
   "cell_type": "code",
   "execution_count": 6,
   "id": "2d72e3f3",
   "metadata": {},
   "outputs": [],
   "source": [
    "import pandas as pd\n",
    "import logging"
   ]
  },
  {
   "cell_type": "code",
   "execution_count": 7,
   "id": "3121b670",
   "metadata": {},
   "outputs": [],
   "source": [
    "logging.debug('This is a debug message')"
   ]
  },
  {
   "cell_type": "code",
   "execution_count": 8,
   "id": "390d90d9",
   "metadata": {},
   "outputs": [],
   "source": [
    "logging.info('This is an info message')"
   ]
  },
  {
   "cell_type": "code",
   "execution_count": 9,
   "id": "217ba4c0",
   "metadata": {},
   "outputs": [
    {
     "name": "stderr",
     "output_type": "stream",
     "text": [
      "ERROR:root:This is an error message\n"
     ]
    }
   ],
   "source": [
    "logging.error('This is an error message')"
   ]
  },
  {
   "cell_type": "code",
   "execution_count": 16,
   "id": "265ae48c",
   "metadata": {},
   "outputs": [],
   "source": [
    "try:\n",
    "    df = pd.read_csv('winequality-red.csv', sep=';')\n",
    "    logging.info(\"Read file 'winequality-red.csv' successfully.\")\n",
    "    df.columns = [label.replace(' ', '_') for label in df.columns]\n",
    "    logging.debug('updated column headers by replacing ' ' with '_')\n",
    "except:\n",
    "  logging.error(\"Can noot read file, 'winequality-red.csv'.\")\n",
    "      "
   ]
  },
  {
   "cell_type": "code",
   "execution_count": 17,
   "id": "b1dd3d61",
   "metadata": {},
   "outputs": [],
   "source": [
    "def numeric_to_buckets(df, column_name):\n",
    "    median = df[column_name].median()\n",
    "    logging.info('computed median:'+median)\n",
    "    for i, val in enumerate(df[column_name]):\n",
    "        if val >= median:\n",
    "            logging.debug('found val >= median for val:'+val )\n",
    "            df.loc[i, column_name] = 'high'\n",
    "        else:\n",
    "            df.loc[i, column_name] = 'low' \n",
    "for feature in df.columns[:-1]:\n",
    "    numeric_to_buckets(df, feature)\n",
    "    print(df.groupby(feature).quality.mean(), '\\n')\n",
    "logging.info('done bucketing values')"
   ]
  },
  {
   "cell_type": "code",
   "execution_count": 19,
   "id": "3c00325d",
   "metadata": {},
   "outputs": [],
   "source": [
    "stocks = {'ABC': 4.43, 'DEF': 7.76, 'GHI': 2.45, 'JKL': 1.76, 'MNO': 3.90, 'PQR': 3.32, \n",
    " 'STU': 7.49, 'VWX': 9.99, 'YZ': 3.35, 'AZH': 0.06}"
   ]
  },
  {
   "cell_type": "code",
   "execution_count": 32,
   "id": "66510ed4",
   "metadata": {},
   "outputs": [
    {
     "name": "stdout",
     "output_type": "stream",
     "text": [
      "starting\n",
      "4.43\n",
      "no\n",
      "7.76\n",
      "no\n",
      "2.45\n",
      "yes\n",
      "1.76\n",
      "yes\n",
      "3.9\n",
      "no\n",
      "3.32\n",
      "yes\n",
      "7.49\n",
      "no\n",
      "9.99\n",
      "no\n",
      "3.35\n",
      "no\n",
      "0.06\n",
      "yes\n",
      "done\n",
      "Out of 10 stocks Total. 4 are recommended sell.\n"
     ]
    }
   ],
   "source": [
    "print('starting')\n",
    "s=0\n",
    "for v in stocks.values():\n",
    "    print(v)\n",
    "    if v < 3.35:\n",
    "        print('yes')\n",
    "        s = s + 1\n",
    "        logging.debug('Sell')\n",
    "    else:\n",
    "        print('no')\n",
    "        logging.debug('Do not sell')\n",
    "print('Done')\n",
    "print('Out of ' + str(len(stocks.values())) + ' stocks Total. ' + str(s) + ' are recommended sell.')\n"
   ]
  },
  {
   "cell_type": "code",
   "execution_count": null,
   "id": "eaf94fe8",
   "metadata": {},
   "outputs": [],
   "source": []
  }
 ],
 "metadata": {
  "kernelspec": {
   "display_name": "Python 3 (ipykernel)",
   "language": "python",
   "name": "python3"
  },
  "language_info": {
   "codemirror_mode": {
    "name": "ipython",
    "version": 3
   },
   "file_extension": ".py",
   "mimetype": "text/x-python",
   "name": "python",
   "nbconvert_exporter": "python",
   "pygments_lexer": "ipython3",
   "version": "3.11.3"
  }
 },
 "nbformat": 4,
 "nbformat_minor": 5
}
