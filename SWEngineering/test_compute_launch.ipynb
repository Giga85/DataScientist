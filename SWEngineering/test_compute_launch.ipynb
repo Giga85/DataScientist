{
 "cells": [
  {
   "cell_type": "code",
   "execution_count": 4,
   "id": "986b8d10",
   "metadata": {},
   "outputs": [],
   "source": [
    "from unit_test import days_until_launch\n",
    "\n",
    "def test_days_until_launch_5():\n",
    "    assert(days_until_launch(4, 9) == 5)\n",
    "    \n",
    "def test_days_until_launch_4():\n",
    "    assert(days_until_launch(22, 26) == 4)\n",
    "\n",
    "def test_days_until_launch_0():\n",
    "    assert(days_until_launch(253, 253) == 0)\n",
    "\n",
    "def test_days_until_launch_0_negative():\n",
    "    assert(days_until_launch(83, 64) == 0)\n",
    "    \n",
    "def test_days_until_launch_1():\n",
    "    assert(days_until_launch(9, 10) == 1)"
   ]
  },
  {
   "cell_type": "code",
   "execution_count": null,
   "id": "a146438e",
   "metadata": {},
   "outputs": [],
   "source": []
  }
 ],
 "metadata": {
  "kernelspec": {
   "display_name": "Python 3 (ipykernel)",
   "language": "python",
   "name": "python3"
  },
  "language_info": {
   "codemirror_mode": {
    "name": "ipython",
    "version": 3
   },
   "file_extension": ".py",
   "mimetype": "text/x-python",
   "name": "python",
   "nbconvert_exporter": "python",
   "pygments_lexer": "ipython3",
   "version": "3.11.3"
  }
 },
 "nbformat": 4,
 "nbformat_minor": 5
}
